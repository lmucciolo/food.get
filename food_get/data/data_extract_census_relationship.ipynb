{
 "cells": [
  {
   "cell_type": "code",
   "execution_count": 30,
   "metadata": {},
   "outputs": [],
   "source": [
    "import requests\n",
    "import json\n",
    "import io\n",
    "import pandas as pd\n",
    "import numpy as np\n",
    "import os"
   ]
  },
  {
   "cell_type": "markdown",
   "metadata": {},
   "source": [
    "Step 1: Get 2010 chi census tracks into a pandas dataFrame \\\n",
    "Step 2: Get 2020 chi census tracks into a pandas dataFrame \\\n",
    "Step 3: Determine relationship between 2010 and 2020. \\\n",
    "Step 4: Limit to just census tracks in 2020 and 2010 that have a one to one relationship"
   ]
  },
  {
   "cell_type": "code",
   "execution_count": 2,
   "metadata": {},
   "outputs": [],
   "source": [
    "# step 1\n",
    "def extract_chi_census_tracts_2010(filename):\n",
    "    \"\"\"\n",
    "    Takes in census track data and returns shorted table to filter by\n",
    "    census track for chicago\n",
    "\n",
    "    \"\"\"\n",
    "    census = pd.read_csv(filename, dtype=str)\n",
    "    columns = [\"TRACTCE10\", \"GEOID10\", \"NAME10\", \"NAMELSAD10\"]\n",
    "    census = pd.read_csv(filename, dtype=str)\n",
    "\n",
    "    return census[columns]"
   ]
  },
  {
   "cell_type": "code",
   "execution_count": 6,
   "metadata": {},
   "outputs": [],
   "source": [
    "# step 2\n",
    "def extract_chi_census_tracts_2020(filename):\n",
    "    \"\"\"\n",
    "    Takes in census track data and returns shorted table to filter by\n",
    "    census track for chicago\n",
    "    \"\"\"\n",
    "    census = pd.read_csv(filename, dtype=str)\n",
    "\n",
    "    return census"
   ]
  },
  {
   "cell_type": "code",
   "execution_count": 8,
   "metadata": {},
   "outputs": [],
   "source": [
    "#all census tracts for chicago from 2010\n",
    "chi_census_tracts_2010 = extract_chi_census_tracts_2010(\n",
    "    \"raw_data/census_tracts_2010.csv\")\n",
    "\n",
    "#all census tracts for chicago from 2020\n",
    "chi_census_tracts_2020 = extract_chi_census_tracts_2020(\n",
    "    \"raw_data/chi_ct_2020.csv\")"
   ]
  },
  {
   "cell_type": "code",
   "execution_count": 34,
   "metadata": {},
   "outputs": [],
   "source": [
    "# step 3 / 4\n",
    "# https://www.census.gov/geographies/reference-files/time-series/geo/relationship-files.2020.html#tract\n",
    "\n",
    "def census_tracts_2020_2010_relationships(url):\n",
    "    \"\"\"\n",
    "    returns a mapping of only 1:1 census tracts from 2020 and 2010 with GEOID_TRACT \n",
    "    \"\"\"\n",
    "    data = requests.get(url).content\n",
    "    relationships = pd.read_csv(io.StringIO(data.decode('utf-8')), sep = \"|\")\n",
    "\n",
    "    chi_census_tracts_2010 = extract_chi_census_tracts_2010(\n",
    "    \"raw_data/census_tracts_2010.csv\")\n",
    "\n",
    "    # filter to just tracts in chicago, will need to be 2020 \n",
    "    chi_GEOID10 = list(chi_census_tracts_2010['GEOID10'].astype(int))\n",
    "    filter = relationships['GEOID_TRACT_10'].isin(chi_GEOID10)\n",
    "    chi_relationships = relationships[filter]\n",
    "\n",
    "    dupe_count = chi_relationships['GEOID_TRACT_10'].value_counts().reset_index()\n",
    "\n",
    "    chi_relationships_flag = chi_relationships.merge(dupe_count, how='left', \n",
    "                                                     left_on='GEOID_TRACT_10', \n",
    "                                                     right_on='GEOID_TRACT_10')    \n",
    "\n",
    "    filter = chi_relationships_flag['count'] == 1 \n",
    "    chi_relationships_flag['relation'] = np.where(filter, 'one', 'many')\n",
    "\n",
    "    #limit columns\n",
    "    columns = ['GEOID_TRACT_20','GEOID_TRACT_10', 'relation']\n",
    "\n",
    "    return chi_relationships_flag[columns].reset_index(drop=True)"
   ]
  },
  {
   "cell_type": "code",
   "execution_count": null,
   "metadata": {},
   "outputs": [],
   "source": [
    "url = 'https://www2.census.gov/geo/docs/maps-data/data/rel2020/tract/tab20_tract20_tract10_natl.txt'\n",
    "chi_ct_relationships = census_tracts_2020_2010_relationships(url)"
   ]
  }
 ],
 "metadata": {
  "kernelspec": {
   "display_name": "Python 3 (ipykernel)",
   "language": "python",
   "name": "python3"
  },
  "language_info": {
   "codemirror_mode": {
    "name": "ipython",
    "version": 3
   },
   "file_extension": ".py",
   "mimetype": "text/x-python",
   "name": "python",
   "nbconvert_exporter": "python",
   "pygments_lexer": "ipython3",
   "version": "3.12.1"
  }
 },
 "nbformat": 4,
 "nbformat_minor": 2
}
