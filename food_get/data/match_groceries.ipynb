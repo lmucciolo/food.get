{
 "cells": [
  {
   "cell_type": "code",
   "execution_count": null,
   "metadata": {},
   "outputs": [],
   "source": [
    "import pandas as pd\n",
    "from math import asin, sqrt, cos, sin, radians\n",
    "\n",
    "EARTH_R_MI = 3963\n"
   ]
  },
  {
   "cell_type": "code",
   "execution_count": 4,
   "metadata": {},
   "outputs": [],
   "source": [
    "def haversine_distance(lat1, lon1, lat2, lon2):\n",
    "    \"\"\"\n",
    "    Calculate the distance between two points on a sphere (like Earth) in miles.\n",
    "\n",
    "    https://en.wikipedia.org/wiki/Haversine_formula\n",
    "\n",
    "    :param lat1: latitude of first point\n",
    "    :param lon1: longitude of first point\n",
    "    :param lat2: latitude of second point\n",
    "    :param lon2: longitude of second point\n",
    "\n",
    "    :return: distance in miles\n",
    "    \"\"\"\n",
    "\n",
    "    rlat1, rlon1, rlat2, rlon2 = (\n",
    "        radians(lat1),\n",
    "        radians(lon1),\n",
    "        radians(lat2),\n",
    "        radians(lon2),\n",
    "    )\n",
    "\n",
    "    d = (\n",
    "        2\n",
    "        * EARTH_R_MI\n",
    "        * asin(\n",
    "            sqrt(\n",
    "                sin((rlat2 - rlat1) / 2) ** 2\n",
    "                + cos(rlat1) * cos(rlat2) * sin((rlon2 - rlon1) / 2) ** 2\n",
    "            )\n",
    "        )\n",
    "    )\n",
    "\n",
    "    return d"
   ]
  },
  {
   "cell_type": "code",
   "execution_count": 43,
   "metadata": {},
   "outputs": [],
   "source": [
    "def match_grocery_stores(stores1_df, stores2_df, max_dist):\n",
    "    \"\"\"\n",
    "    Matches grocery stores from two data sets with address and lat/long given a \n",
    "    max_dist. Matches on dist and the numbers of an address. Only uses the first match\n",
    "    even if there are multiple.\n",
    "    \"\"\"\n",
    "\n",
    "    stores1_df[\"match_id\"] = None\n",
    "    stores2_df[\"match_id\"] = None\n",
    "    stores1_df['address_num'] = stores1_df['address'].str.split(' ').str[0]\n",
    "    stores2_df['address_num'] = stores2_df['address'].str.split(' ').str[0]\n",
    "    match_id = 1\n",
    "\n",
    "    for index1, store1 in stores1_df.iterrows():\n",
    "        for index2, store2 in stores2_df.iterrows():\n",
    "            if stores1_df.loc[index1,'match_id'] is None: \n",
    "                dist = haversine_distance(float(store1[\"latitude\"]),float(store1[\"longitude\"]), float(store2[\"latitude\"]), float(store2[\"longitude\"]))\n",
    "                # dist is how many feet away\n",
    "                if dist * 5280 <= max_dist and store1['address_num'] == store2['address_num']: \n",
    "                    stores1_df.loc[index1,'match_id']= match_id\n",
    "                    stores2_df.loc[index2,'match_id']= match_id\n",
    "                    match_id += 1\n",
    "                    print(match_id)\n",
    "            \n",
    "\n",
    "    matches_1 = stores1_df[~stores1_df['match_id'].isna()]\n",
    "    matches_2 = stores2_df[~stores2_df['match_id'].isna()]\n",
    "    #change non matches so they dont get matched\n",
    "    merged_df = pd.merge(matches_1, matches_2, on=\"match_id\")\n",
    "\n",
    "    merge_drop_cols = ['store_name_y', 'address_num_x', 'address_num_y', \n",
    "                             'address_x', 'latitude_y', 'longitude_y', 'address_y']\n",
    "\n",
    "    merged_df = merged_df.drop(merge_drop_cols, axis = 1)\n",
    "    merged_df.rename({'store_name_x': 'store_name', 'latitude_x': 'latitude', 'longitude_x': 'longitude'}, axis=1, inplace = True)\n",
    "\n",
    "    nonmatches_1 = stores1_df[stores1_df['match_id'].isna()]\n",
    "    nonmatches_2 = stores2_df[stores2_df['match_id'].isna()]\n",
    "\n",
    "    nonmatches_1.drop(['address', 'address_num'], axis = 1, inplace = True)\n",
    "    nonmatches_2.drop(['address', 'address_num'], axis = 1, inplace = True)\n",
    "\n",
    "    final_df = pd.concat([merged_df,nonmatches_1, nonmatches_2])\n",
    "    print(merged_df.columns)\n",
    "    print(nonmatches_1.columns)\n",
    "    print(nonmatches_2.columns)\n",
    "\n",
    "    return final_df"
   ]
  },
  {
   "cell_type": "code",
   "execution_count": 59,
   "metadata": {},
   "outputs": [
    {
     "name": "stdout",
     "output_type": "stream",
     "text": [
      "Total in original: 2076\n",
      "Total merged: 213\n",
      "Total in merge: 1863\n",
      "Total in OG minus merged: 1863 :)\n"
     ]
    }
   ],
   "source": [
    "# QA\n",
    "# print(f\"Total in original: {len(g_clean) + len(s_clean)}\")\n",
    "# print(f\"Total merged: {len(df[df['match_id'].notna()])}\")\n",
    "# print(f\"Total in merge: {len(df)}\")\n",
    "# print(f\"Total in OG minus merged: {len(g_clean) + len(s_clean) - len(df[df['match_id'].notna()])} :)\")"
   ]
  },
  {
   "cell_type": "code",
   "execution_count": 1,
   "metadata": {},
   "outputs": [
    {
     "name": "stdout",
     "output_type": "stream",
     "text": [
      "[NbConvertApp] Converting notebook match_groceries.ipynb to script\n",
      "[NbConvertApp] Writing 3548 bytes to match_groceries.py\n"
     ]
    }
   ],
   "source": [
    "# convert to py file\n",
    "!jupyter nbconvert --to script match_groceries.ipynb"
   ]
  }
 ],
 "metadata": {
  "kernelspec": {
   "display_name": ".venv",
   "language": "python",
   "name": "python3"
  },
  "language_info": {
   "codemirror_mode": {
    "name": "ipython",
    "version": 3
   },
   "file_extension": ".py",
   "mimetype": "text/x-python",
   "name": "python",
   "nbconvert_exporter": "python",
   "pygments_lexer": "ipython3",
   "version": "3.12.1"
  }
 },
 "nbformat": 4,
 "nbformat_minor": 2
}
