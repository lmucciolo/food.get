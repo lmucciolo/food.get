{
 "cells": [
  {
   "cell_type": "code",
   "execution_count": null,
   "metadata": {},
   "outputs": [],
   "source": [
    "import pandas as pd\n",
    "from math import asin, sqrt, cos, sin, radians\n",
    "\n",
    "EARTH_R_MI = 3963\n"
   ]
  },
  {
   "cell_type": "code",
   "execution_count": null,
   "metadata": {},
   "outputs": [],
   "source": [
    "def haversine_distance(lat_lon_1, lat_lon_2):\n",
    "    \"\"\"\n",
    "    Calculate the distance between two points on a sphere (like Earth) in miles.\n",
    "\n",
    "    https://en.wikipedia.org/wiki/Haversine_formula\n",
    "\n",
    "    :param lat1: latitude of first point\n",
    "    :param lon1: longitude of first point\n",
    "    :param lat2: latitude of second point\n",
    "    :param lon2: longitude of second point\n",
    "\n",
    "    :return: distance in miles\n",
    "    \"\"\"\n",
    "\n",
    "    lat1, lon1 = lat_lon_1\n",
    "    lat2, lon2 = lat_lon_2\n",
    "\n",
    "    rlat1, rlon1, rlat2, rlon2 = (\n",
    "        radians(lat1),\n",
    "        radians(lon1),\n",
    "        radians(lat2),\n",
    "        radians(lon2),\n",
    "    )\n",
    "\n",
    "    d = (\n",
    "        2\n",
    "        * EARTH_R_MI\n",
    "        * asin(\n",
    "            sqrt(\n",
    "                sin((rlat2 - rlat1) / 2) ** 2\n",
    "                + cos(rlat1) * cos(rlat2) * sin((rlon2 - rlon1) / 2) ** 2\n",
    "            )\n",
    "        )\n",
    "    )\n",
    "\n",
    "    return d"
   ]
  },
  {
   "cell_type": "code",
   "execution_count": null,
   "metadata": {},
   "outputs": [],
   "source": [
    "def match_grocery_stores(stores1_df, stores2_df, distance):\n",
    "    # find distance between each store\n",
    "    # if distance is less than 5? 10? feet then link\n",
    "    # give both a match_id\n",
    "    # full join linking on unique id\n",
    "\n",
    "    stores1_df[\"match_id\"] = None\n",
    "    stores2_df[\"match_id\"] = None\n",
    "    match_id = 1\n",
    "\n",
    "    for store1 in stores1_df.iterrows():\n",
    "        for store2 in stores2_df.iterrows():\n",
    "            if (\n",
    "                haversine_distance(store1[\"location\"], store2[\"location\"])\n",
    "                <= distance / 5280 # distance feet away?\n",
    "            ):  \n",
    "                store1[\"match_id\"] = match_id\n",
    "                store2[\"match_id\"] = match_id\n",
    "                match_id += 1\n",
    "\n",
    "    # full join linking on match_id\n",
    "    merged_df = pd.merge(stores1_df, stores2_df, on=\"match_id\", how=\"outer\")\n",
    "\n",
    "    # clean up columns\n",
    "    columns = []\n",
    "    final_df = merged_df[columns]\n",
    "\n",
    "    return final_df"
   ]
  }
 ],
 "metadata": {
  "language_info": {
   "name": "python"
  }
 },
 "nbformat": 4,
 "nbformat_minor": 2
}
