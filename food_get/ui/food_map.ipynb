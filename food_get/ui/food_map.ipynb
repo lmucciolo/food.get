{
 "cells": [
  {
   "cell_type": "code",
   "execution_count": 1,
   "metadata": {},
   "outputs": [
    {
     "ename": "ModuleNotFoundError",
     "evalue": "No module named 'folium'",
     "output_type": "error",
     "traceback": [
      "\u001b[0;31m---------------------------------------------------------------------------\u001b[0m",
      "\u001b[0;31mModuleNotFoundError\u001b[0m                       Traceback (most recent call last)",
      "Cell \u001b[0;32mIn[1], line 1\u001b[0m\n\u001b[0;32m----> 1\u001b[0m \u001b[38;5;28;01mimport\u001b[39;00m \u001b[38;5;21;01mfolium\u001b[39;00m\n\u001b[1;32m      3\u001b[0m \u001b[38;5;66;03m# tile options https://leaflet-extras.github.io/leaflet-providers/preview/\u001b[39;00m\n\u001b[1;32m      4\u001b[0m m \u001b[38;5;241m=\u001b[39m folium\u001b[38;5;241m.\u001b[39mMap(location \u001b[38;5;241m=\u001b[39m [\u001b[38;5;241m41.87491987636846\u001b[39m, \u001b[38;5;241m-\u001b[39m\u001b[38;5;241m87.62004994799588\u001b[39m], zoom_start\u001b[38;5;241m=\u001b[39m\u001b[38;5;241m11\u001b[39m, tiles\u001b[38;5;241m=\u001b[39m\u001b[38;5;124m\"\u001b[39m\u001b[38;5;124mcartodb positron\u001b[39m\u001b[38;5;124m\"\u001b[39m)\n",
      "\u001b[0;31mModuleNotFoundError\u001b[0m: No module named 'folium'"
     ]
    }
   ],
   "source": [
    "\n",
    "import folium\n",
    "\n",
    "# tile options https://leaflet-extras.github.io/leaflet-providers/preview/\n",
    "m = folium.Map(location = [41.87491987636846, -87.62004994799588], zoom_start=11, tiles=\"cartodb positron\")\n",
    "\n",
    "geojson_data = \"/Users/austinsteinhart/Desktop/CAPP122/food.get/food_get/data/raw_data/census_tracts_2010.geojson\"\n",
    "\n",
    "popup = folium.GeoJsonPopup(fields=[\"namelsad10\"])\n",
    "\n",
    "folium.GeoJson(geojson_data, \n",
    "        highlight_function=lambda feature: {\n",
    "        \"fillColor\": (\n",
    "            \"green\" if \"e\" in feature[\"properties\"][\"namelsad10\"].lower() else \"#ffff00\"\n",
    "        )},\n",
    "        popup=popup,\n",
    "        ).add_to(m)\n",
    "\n",
    "folium.LayerControl().add_to(m)"
   ]
  },
  {
   "cell_type": "code",
   "execution_count": null,
   "metadata": {},
   "outputs": [],
   "source": [
    "m"
   ]
  }
 ],
 "metadata": {
  "kernelspec": {
   "display_name": ".venv",
   "language": "python",
   "name": "python3"
  },
  "language_info": {
   "codemirror_mode": {
    "name": "ipython",
    "version": 3
   },
   "file_extension": ".py",
   "mimetype": "text/x-python",
   "name": "python",
   "nbconvert_exporter": "python",
   "pygments_lexer": "ipython3",
   "version": "3.12.1"
  }
 },
 "nbformat": 4,
 "nbformat_minor": 2
}
