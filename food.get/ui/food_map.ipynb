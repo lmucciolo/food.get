{
 "cells": [
  {
   "cell_type": "code",
   "execution_count": 24,
   "metadata": {},
   "outputs": [
    {
     "data": {
      "text/plain": [
       "<folium.map.LayerControl at 0x11e6eab00>"
      ]
     },
     "execution_count": 24,
     "metadata": {},
     "output_type": "execute_result"
    }
   ],
   "source": [
    "\n",
    "import folium\n",
    "\n",
    "# tile options https://leaflet-extras.github.io/leaflet-providers/preview/\n",
    "m = folium.Map(location = [41.87491987636846, -87.62004994799588], zoom_start=11, tiles=\"cartodb positron\")\n",
    "\n",
    "geojson_data = \"/Users/austinsteinhart/Desktop/CAPP122/food_get/food_get/data/raw_data/census_tracts_2010.geojson\"\n",
    "\n",
    "popup = folium.GeoJsonPopup(fields=[\"namelsad10\"])\n",
    "\n",
    "folium.GeoJson(geojson_data, \n",
    "        highlight_function=lambda feature: {\n",
    "        \"fillColor\": (\n",
    "            \"green\" if \"e\" in feature[\"properties\"][\"namelsad10\"].lower() else \"#ffff00\"\n",
    "        )},\n",
    "        popup=popup,\n",
    "        ).add_to(m)\n",
    "\n",
    "folium.LayerControl().add_to(m)\n",
    "\n"
   ]
  },
  {
   "cell_type": "code",
   "execution_count": null,
   "metadata": {},
   "outputs": [],
   "source": [
    "m"
   ]
  }
 ],
 "metadata": {
  "kernelspec": {
   "display_name": ".venv",
   "language": "python",
   "name": "python3"
  },
  "language_info": {
   "codemirror_mode": {
    "name": "ipython",
    "version": 3
   },
   "file_extension": ".py",
   "mimetype": "text/x-python",
   "name": "python",
   "nbconvert_exporter": "python",
   "pygments_lexer": "ipython3",
   "version": "3.12.1"
  }
 },
 "nbformat": 4,
 "nbformat_minor": 2
}
